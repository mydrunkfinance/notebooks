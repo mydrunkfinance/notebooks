{
 "cells": [
  {
   "cell_type": "markdown",
   "metadata": {},
   "source": [
    "# External data preparation for modelling"
   ]
  },
  {
   "cell_type": "markdown",
   "metadata": {},
   "source": [
    "## Imports"
   ]
  },
  {
   "cell_type": "code",
   "execution_count": 1,
   "metadata": {},
   "outputs": [],
   "source": [
    "import os, sys, re, glob, subprocess, datetime\n",
    "import pandas as pd\n",
    "import numpy as np\n",
    "import matplotlib.pyplot as plt\n",
    "import seaborn as sns\n",
    "import pandas_datareader\n",
    "import time\n",
    "\n",
    "pd.options.display.max_rows = 50\n",
    "pd.options.display.max_columns = 50"
   ]
  },
  {
   "cell_type": "markdown",
   "metadata": {},
   "source": [
    "## Factsheet parsing"
   ]
  },
  {
   "cell_type": "code",
   "execution_count": 2,
   "metadata": {},
   "outputs": [],
   "source": [
    "ABBREV = {\n",
    "  'US': 'us',\n",
    "  'UK': 'gb',\n",
    "  'Finland': 'fi',\n",
    "  'Denmark': 'dk',\n",
    "  'France': 'fr',\n",
    "  'Spain': 'es',\n",
    "  'Switzerland': 'ch',\n",
    "  'Cash': 'cash',\n",
    "  'Other': 'other',\n",
    "  'Consumer Staples': 'staples',\n",
    "  'Consumer Discretionary': 'discretionary',\n",
    "  'Technology': 'tech',\n",
    "  'Industrials': 'industrials',\n",
    "  'Healthcare': 'healthcare',\n",
    "}\n",
    "\n",
    "FACTS_COLUMNS = [\n",
    "  'date', 'aum', 'avg_cap', 'avg_founded', 'holdings',\n",
    "  'geo_us', 'geo_gb', 'geo_dk', 'geo_es', 'geo_fi', 'geo_ch', 'geo_fr', 'geo_cash',\n",
    "  'sec_staples', 'sec_tech', 'sec_healthcare', 'sec_discretionary',  'sec_industrials', 'sec_cash',\n",
    "  'top_1', 'top_2', 'top_3', 'top_4', 'top_5', 'top_6', 'top_7', 'top_8', 'top_9', 'top_10',\n",
    "  't_acc', 't_inc',\n",
    "]\n",
    "\n",
    "companies = pd.read_csv('companies.csv', parse_dates=['first_bought', 'sold_out'])"
   ]
  },
  {
   "cell_type": "code",
   "execution_count": 3,
   "metadata": {
    "scrolled": false
   },
   "outputs": [],
   "source": [
    "def pdftotext(filename, flags='-layout'):\n",
    "  proc = subprocess.Popen(['/usr/bin/pdftotext'] + flags.split() + [filename, '-' ], stdout=subprocess.PIPE)\n",
    "  out, err = proc.communicate()\n",
    "  assert proc.wait() == 0, 'pdftotext %s failed' % filename\n",
    "  return out.decode('utf-8')\n",
    "\n",
    "def name_to_symbol(name):\n",
    "  for row in companies[~companies.name_regexp.isnull()].itertuples():\n",
    "    if re.search(row.name_regexp, name, re.I) is not None:\n",
    "      return row.symbol\n",
    "  raise Exception(\"Can't determine symbol for name: %s\" % name)\n",
    "\n",
    "def get_abbrev(s):\n",
    "  d = { k.lower().replace(' ', '') : v for (k, v) in ABBREV.items() }\n",
    "  return d.get(s.lower().replace(' ', '').replace('_', ''), s)\n",
    "\n",
    "def extract_gbp_b(s):\n",
    "  m = re.match('£([0-9.]+)bn', s)\n",
    "  assert m is not None, s\n",
    "  return float(m.group(1))\n",
    "\n",
    "def extract_top(filename):\n",
    "  text = pdftotext(filename)\n",
    "  it = iter(text.split('\\n'))\n",
    "  res = []\n",
    "  idx = -1\n",
    "  for line in it:\n",
    "    idx = line.find('Top 10 Holdings')\n",
    "    if idx >= 0: break\n",
    "  for line in it:\n",
    "    line = line[max(0, idx-2):min(len(line), idx + 40)]\n",
    "    line = line.lstrip('• ').strip()\n",
    "    if line == '': continue\n",
    "    res.append(line)\n",
    "    if len(res) >= 10: break\n",
    "  assert len(res) == 10\n",
    "  return res\n",
    "\n",
    "def extract_facts(filename):\n",
    "  facts = {}\n",
    "  text = pdftotext(filename, '-f 1 -l 1 -x 0 -y 0 -W 225 -H 780 -layout')\n",
    "\n",
    "  section = ''\n",
    "  for line in text.split('\\n'):\n",
    "    line = line.strip()\n",
    "    \n",
    "    m = re.match(r'^T Class (Acc|Inc) +[0-9.%]+ +[^ ]+ +([0-9.]+)$', line)\n",
    "    if m:\n",
    "      facts['t_%s' % m.group(1).lower()] = float(m.group(2))\n",
    "      continue\n",
    "\n",
    "    if 'Geographic Split' in line:\n",
    "      section = 'geo'\n",
    "      continue\n",
    "      \n",
    "    if 'Sector Split' in line:\n",
    "      section = 'sec'\n",
    "      continue\n",
    "\n",
    "    if line.startswith('As at'):\n",
    "      line = line[5:].strip()\n",
    "      if ',' in line: line = line.split(',')[0].strip()\n",
    "      line = ' '.join(line.split()[:3])\n",
    "\n",
    "      for fmt in ['%d %b %Y', '%d %B %Y', '%dth %B %Y']:\n",
    "        try:\n",
    "          d = datetime.datetime.strptime(line, fmt)\n",
    "          break\n",
    "        except:\n",
    "          pass\n",
    "      else:\n",
    "        raise Exception(\"Couldn't parse date: %s\" % line)\n",
    "\n",
    "      assert 'date' not in facts or facts['date'] == d\n",
    "      #facts['month'] = d.strftime('%Y-%m')\n",
    "      facts['date'] = d\n",
    "      continue\n",
    "      \n",
    "    vec = re.split(r'   +', line)\n",
    "    if len(vec) != 2:\n",
    "      continue\n",
    "    vec[1] = vec[1].replace(',', '.')\n",
    "    vec[1] = vec[1].rstrip('%')\n",
    "    if vec[0] == 'Fund Size':\n",
    "      facts['aum'] = extract_gbp_b(vec[1])\n",
    "    elif vec[0] == 'No. Holdings':\n",
    "      facts['holdings'] = int(vec[1])\n",
    "    elif vec[0] == 'Average Co. Founded':\n",
    "      facts['avg_founded'] = int(vec[1])\n",
    "    elif vec[0] == 'Average Market Cap':\n",
    "      facts['avg_cap'] = extract_gbp_b(vec[1])\n",
    "    elif section != '':\n",
    "      if section == 'geo' and vec[0] == 'Other' and facts['date'].year == 2016: vec[0] = 'dk'\n",
    "      facts['%s_%s' % (section, get_abbrev(vec[0]))] = float(vec[1])\n",
    "      if vec[1] == 'Cash': section = ''\n",
    "\n",
    "  for i, s in enumerate(extract_top(filename)):\n",
    "    facts['top_%d' % (i + 1)] = name_to_symbol(s)\n",
    "\n",
    "  for k in facts.keys():\n",
    "    assert k in FACTS_COLUMNS, k\n",
    "\n",
    "  return facts"
   ]
  },
  {
   "cell_type": "code",
   "execution_count": 4,
   "metadata": {
    "scrolled": false
   },
   "outputs": [],
   "source": [
    "filenames = glob.glob('/lab/fundsmith/facts/201[6-8]*.pdf')\n",
    "\n",
    "facts = [ extract_facts(s) for s in filenames ]\n",
    "facts = pd.DataFrame(facts, columns=FACTS_COLUMNS).fillna(0).sort_values('date').reset_index(drop=True)\n",
    "\n",
    "#facts"
   ]
  },
  {
   "cell_type": "code",
   "execution_count": 5,
   "metadata": {},
   "outputs": [],
   "source": [
    "facts.to_csv('facts.csv', index=False)"
   ]
  },
  {
   "cell_type": "markdown",
   "metadata": {},
   "source": [
    "## Edgar 13F parsing"
   ]
  },
  {
   "cell_type": "code",
   "execution_count": 6,
   "metadata": {},
   "outputs": [],
   "source": [
    "edgar_urls = {\n",
    "  '2018-03-31': 'https://www.sec.gov/Archives/edgar/data/1569205/000152002318000005/xslForm13F_X01/Fundsmith_q12018.xml',\n",
    "  '2017-12-31': 'https://www.sec.gov/Archives/edgar/data/1569205/000152002318000001/xslForm13F_X01/FUNDSMITH_13F_TABLE.xml',\n",
    "  '2017-09-30': 'https://www.sec.gov/Archives/edgar/data/1569205/000152002317000002/xslForm13F_X01/fundsmith.xml',\n",
    "  '2017-06-30': 'https://www.sec.gov/Archives/edgar/data/1569205/000138713117004151/xslForm13F_X01/infotable.xml',\n",
    "  '2017-03-31': 'https://www.sec.gov/Archives/edgar/data/1569205/000138713117002469/xslForm13F_X01/infotable.xml',\n",
    "  '2016-12-31': 'https://www.sec.gov/Archives/edgar/data/1569205/000138713117000731/xslForm13F_X01/infotable.xml',\n",
    "  '2016-09-30': 'https://www.sec.gov/Archives/edgar/data/1569205/000138713116007934/xslForm13F_X01/infotable.xml',\n",
    "  '2016-06-30': ['https://www.sec.gov/Archives/edgar/data/1569205/000138713116006514/xslForm13F_X01/infotable.xml',\n",
    "                 'https://www.sec.gov/Archives/edgar/data/1569205/000138713116006804/xslForm13F_X01/infotable.xml'],\n",
    "  '2016-03-31': 'https://www.sec.gov/Archives/edgar/data/1569205/000138713116005089/xslForm13F_X01/infotable.xml',\n",
    "  '2015-12-31': 'https://www.sec.gov/Archives/edgar/data/1569205/000138713116004227/xslForm13F_X01/infotable.xml',\n",
    "}"
   ]
  },
  {
   "cell_type": "code",
   "execution_count": 7,
   "metadata": {},
   "outputs": [],
   "source": [
    "def read_13f(url):\n",
    "  df = pd.read_html(url)[-1]\n",
    "  df.columns = [ 'name', 'class', 'cusip', 'usd', 'size', 'sh_prn',  'put_call', 'discretion', 'manager', 'vote_sole', 'vote_shared', 'vote_none' ] \n",
    "  return df[3:].reset_index(drop=True).copy()\n",
    "\n",
    "def process_edgar(date, urls):\n",
    "  if type(urls) is not list: urls = [urls]\n",
    "\n",
    "  df = pd.concat([read_13f(u) for u in urls])\n",
    "  print('%s: %d holdings' % (date, len(df)))\n",
    "  \n",
    "  if date == '2017-09-30':\n",
    "    df.loc[df['name'] == 'PAYPAL HLDGS INC', 'cusip'] = '70450Y103'\n",
    "\n",
    "  df['date'] = date\n",
    "  df['shares'] = df['size'].astype('float')\n",
    "  df['usd'] = pd.to_numeric(df['usd']) * 1000\n",
    "  df['cusip'] = df.cusip.str.lstrip('0')\n",
    "\n",
    "  companies = pd.read_csv('companies.csv')\n",
    "  companies.cusip = companies.cusip.str.lstrip('0')\n",
    "\n",
    "  df = pd.merge(df, companies[['cusip', 'symbol']], 'left', 'cusip')\n",
    "  df = df[['date', 'symbol', 'cusip', 'shares', 'usd']]\n",
    "  if len(df[df.symbol.isnull()]) > 0:\n",
    "    sys.stderr.write('Could not determine symbol for CUSIPs: %s' % str(df[df.symbol.isnull()]['cusip']))\n",
    "\n",
    "  return df"
   ]
  },
  {
   "cell_type": "code",
   "execution_count": 8,
   "metadata": {
    "scrolled": false
   },
   "outputs": [
    {
     "name": "stdout",
     "output_type": "stream",
     "text": [
      "2018-03-31: 17 holdings\n",
      "2017-12-31: 18 holdings\n",
      "2017-09-30: 18 holdings\n",
      "2017-06-30: 19 holdings\n",
      "2017-03-31: 18 holdings\n",
      "2016-12-31: 18 holdings\n",
      "2016-09-30: 19 holdings\n",
      "2016-06-30: 19 holdings\n",
      "2016-03-31: 17 holdings\n",
      "2015-12-31: 18 holdings\n"
     ]
    }
   ],
   "source": [
    "edgar = pd.concat([process_edgar(*i) for i in edgar_urls.items()], ignore_index=True)\n",
    "edgar.date = pd.to_datetime(edgar.date)"
   ]
  },
  {
   "cell_type": "code",
   "execution_count": 9,
   "metadata": {},
   "outputs": [],
   "source": [
    "edgar.to_csv('edgar.csv', index=False)"
   ]
  },
  {
   "cell_type": "markdown",
   "metadata": {},
   "source": [
    "## Stock prices"
   ]
  },
  {
   "cell_type": "code",
   "execution_count": 10,
   "metadata": {},
   "outputs": [],
   "source": [
    "companies = pd.read_csv('companies.csv')\n",
    "symbol_to_currency = companies.set_index('symbol').yahoo_currency.fillna('USD').to_dict()\n",
    "ezv = pd.read_csv('ezv/ezv.wide.csv', parse_dates=['date'], index_col=['date']).resample('D').ffill()\n",
    "facts = pd.read_csv('facts.csv', parse_dates=['date'])"
   ]
  },
  {
   "cell_type": "code",
   "execution_count": 11,
   "metadata": {},
   "outputs": [],
   "source": [
    "def fetch_yahoo(symbol):\n",
    "  cache = 'yahoo/%s.csv' % symbol\n",
    "  if not os.path.exists(cache):\n",
    "    print('Fetching %s from yahoo' % symbol)\n",
    "    res = pandas_datareader.data.get_data_yahoo(symbol, start='2000-01-01')\n",
    "    os.makedirs('yahoo', exist_ok=True)\n",
    "    res.to_csv(cache)\n",
    "    time.sleep(1)\n",
    "\n",
    "  return pd.read_csv(cache, index_col=0, parse_dates=[0]).dropna(how='any')"
   ]
  },
  {
   "cell_type": "code",
   "execution_count": 12,
   "metadata": {},
   "outputs": [],
   "source": [
    "ydata = pd.DataFrame()\n",
    "\n",
    "for row in companies.itertuples():\n",
    "  if row.symbol in ['BCR']: continue\n",
    "  yahoo_symbol = row.yahoo_symbol if type(row.yahoo_symbol) is str else row.symbol\n",
    "  yahoo_currency = row.yahoo_currency if type(row.yahoo_currency) is str else 'USD'\n",
    "  \n",
    "  df = fetch_yahoo(yahoo_symbol)\n",
    "  df = df.groupby('Date').last()\n",
    "\n",
    "  for col in df.columns:\n",
    "    if col == 'Volume':\n",
    "      conv = df[col]\n",
    "    else:\n",
    "      conv = (df[col] * ezv[yahoo_currency] / ezv['USD']).dropna()\n",
    "    ydata['%s_%s' % (row.symbol, col.replace(' ', ''))] = conv\n",
    "\n",
    "ydata.index.name = 'Date'\n",
    "ydata = ydata.reset_index()\n",
    "\n",
    "ydata = ydata[ydata.Date >= '2016'].reset_index(drop=True)\n",
    "\n",
    "ydata.to_feather('ydata_usd.feather')"
   ]
  },
  {
   "cell_type": "code",
   "execution_count": 13,
   "metadata": {},
   "outputs": [],
   "source": [
    "# https://www.londonstockexchange.com/exchange/prices-and-markets/funds/company-summary/UK/25054936.html\n",
    "df = pd.read_json('t-inc.json')\n",
    "df = pd.DataFrame({\n",
    "  'date': df.d.apply(lambda v: pd.Timestamp(v[0] // 1000, unit='s')),\n",
    "  'GBX': df.d.apply(lambda v: v[1]),\n",
    "})\n",
    "df = df.set_index('date')\n",
    "df['USD'] = (df['GBX'] * ezv['GBX'] / ezv['USD']).dropna()\n",
    "df.to_csv('t-inc.csv')"
   ]
  },
  {
   "cell_type": "markdown",
   "metadata": {},
   "source": [
    "## Misc"
   ]
  },
  {
   "cell_type": "code",
   "execution_count": 14,
   "metadata": {},
   "outputs": [],
   "source": [
    "companies = pd.read_csv('companies.csv')\n",
    "edgar = pd.read_csv('edgar.csv', parse_dates=['date'])"
   ]
  },
  {
   "cell_type": "markdown",
   "metadata": {},
   "source": [
    "Companies by sector and geography:"
   ]
  },
  {
   "cell_type": "code",
   "execution_count": 15,
   "metadata": {},
   "outputs": [
    {
     "data": {
      "text/html": [
       "<div>\n",
       "<style scoped>\n",
       "    .dataframe tbody tr th:only-of-type {\n",
       "        vertical-align: middle;\n",
       "    }\n",
       "\n",
       "    .dataframe tbody tr th {\n",
       "        vertical-align: top;\n",
       "    }\n",
       "\n",
       "    .dataframe thead th {\n",
       "        text-align: right;\n",
       "    }\n",
       "</style>\n",
       "<table border=\"1\" class=\"dataframe\">\n",
       "  <thead>\n",
       "    <tr style=\"text-align: right;\">\n",
       "      <th>country</th>\n",
       "      <th>CH</th>\n",
       "      <th>DK</th>\n",
       "      <th>ES</th>\n",
       "      <th>FI</th>\n",
       "      <th>FR</th>\n",
       "      <th>GB</th>\n",
       "      <th>US</th>\n",
       "    </tr>\n",
       "    <tr>\n",
       "      <th>sector</th>\n",
       "      <th></th>\n",
       "      <th></th>\n",
       "      <th></th>\n",
       "      <th></th>\n",
       "      <th></th>\n",
       "      <th></th>\n",
       "      <th></th>\n",
       "    </tr>\n",
       "  </thead>\n",
       "  <tbody>\n",
       "    <tr>\n",
       "      <th>Consumer Discretionary</th>\n",
       "      <td></td>\n",
       "      <td></td>\n",
       "      <td></td>\n",
       "      <td></td>\n",
       "      <td></td>\n",
       "      <td>IHG</td>\n",
       "      <td>DNKN,DPZ,MAR</td>\n",
       "    </tr>\n",
       "    <tr>\n",
       "      <th>Consumer Staples</th>\n",
       "      <td>NESN</td>\n",
       "      <td></td>\n",
       "      <td></td>\n",
       "      <td></td>\n",
       "      <td>OR</td>\n",
       "      <td>DGE,IMB,RB,ULVR</td>\n",
       "      <td>CL,DPS,EL,PEP,PM,SJM</td>\n",
       "    </tr>\n",
       "    <tr>\n",
       "      <th>Healthcare</th>\n",
       "      <td></td>\n",
       "      <td>COLO,NVO</td>\n",
       "      <td></td>\n",
       "      <td></td>\n",
       "      <td></td>\n",
       "      <td></td>\n",
       "      <td>BCR,BDX,IDXX,JNJ,SYK,WAT</td>\n",
       "    </tr>\n",
       "    <tr>\n",
       "      <th>Industrials</th>\n",
       "      <td></td>\n",
       "      <td></td>\n",
       "      <td></td>\n",
       "      <td>KNEBV</td>\n",
       "      <td></td>\n",
       "      <td>ITRK</td>\n",
       "      <td>MMM</td>\n",
       "    </tr>\n",
       "    <tr>\n",
       "      <th>Technology</th>\n",
       "      <td></td>\n",
       "      <td></td>\n",
       "      <td>AMS</td>\n",
       "      <td></td>\n",
       "      <td></td>\n",
       "      <td>SGE</td>\n",
       "      <td>ADP,FB,INTU,MSFT,ORCL,PG,PYPL,V</td>\n",
       "    </tr>\n",
       "  </tbody>\n",
       "</table>\n",
       "</div>"
      ],
      "text/plain": [
       "country                   CH        DK   ES     FI  FR               GB  \\\n",
       "sector                                                                    \n",
       "Consumer Discretionary                                              IHG   \n",
       "Consumer Staples        NESN                        OR  DGE,IMB,RB,ULVR   \n",
       "Healthcare                    COLO,NVO                                    \n",
       "Industrials                                  KNEBV                 ITRK   \n",
       "Technology                              AMS                         SGE   \n",
       "\n",
       "country                                              US  \n",
       "sector                                                   \n",
       "Consumer Discretionary                     DNKN,DPZ,MAR  \n",
       "Consumer Staples                   CL,DPS,EL,PEP,PM,SJM  \n",
       "Healthcare                     BCR,BDX,IDXX,JNJ,SYK,WAT  \n",
       "Industrials                                         MMM  \n",
       "Technology              ADP,FB,INTU,MSFT,ORCL,PG,PYPL,V  "
      ]
     },
     "execution_count": 15,
     "metadata": {},
     "output_type": "execute_result"
    }
   ],
   "source": [
    "pd.pivot_table(companies, 'symbol', 'sector', 'country', aggfunc=lambda v: ','.join(v), fill_value='')"
   ]
  }
 ],
 "metadata": {
  "kernelspec": {
   "display_name": "Python 3",
   "language": "python",
   "name": "python3"
  },
  "language_info": {
   "codemirror_mode": {
    "name": "ipython",
    "version": 3
   },
   "file_extension": ".py",
   "mimetype": "text/x-python",
   "name": "python",
   "nbconvert_exporter": "python",
   "pygments_lexer": "ipython3",
   "version": "3.6.5"
  }
 },
 "nbformat": 4,
 "nbformat_minor": 2
}
